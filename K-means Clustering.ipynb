{
 "cells": [
  {
   "cell_type": "code",
   "execution_count": null,
   "metadata": {},
   "outputs": [],
   "source": [
    "import pandas as pd\n",
    "import matplotlib.pyplot as plt\n",
    "\n",
    "from sklearn.preprocessing import StandardScaler\n",
    "from sklearn.decomposition import PCA\n",
    "from sklearn.cluster import KMeans"
   ]
  },
  {
   "cell_type": "markdown",
   "metadata": {},
   "source": [
    "### Loading the data and showing the data"
   ]
  },
  {
   "cell_type": "code",
   "execution_count": null,
   "metadata": {},
   "outputs": [],
   "source": [
    "from ucimlrepo import fetch_ucirepo \n",
    "  \n",
    "# fetch dataset \n",
    "wine_quality = fetch_ucirepo(id=186) \n",
    "  \n",
    "# data (as pandas dataframes) \n",
    "Df = wine_quality.data.features \n",
    "y = wine_quality.data.targets \n",
    "  \n",
    "# # metadata \n",
    "# print(wine_quality.metadata) \n",
    "  \n",
    "# # variable information \n",
    "print(wine_quality.variables) "
   ]
  },
  {
   "cell_type": "markdown",
   "metadata": {},
   "source": [
    "### Showing the description"
   ]
  },
  {
   "cell_type": "code",
   "execution_count": null,
   "metadata": {},
   "outputs": [],
   "source": [
    "Df"
   ]
  },
  {
   "cell_type": "code",
   "execution_count": null,
   "metadata": {},
   "outputs": [],
   "source": [
    "Df.describe()"
   ]
  },
  {
   "cell_type": "markdown",
   "metadata": {},
   "source": [
    "### Dropping the data if is any Nan value"
   ]
  },
  {
   "cell_type": "code",
   "execution_count": null,
   "metadata": {},
   "outputs": [],
   "source": [
    "\n",
    "if Df.isnull().values.any():\n",
    "    Df = Df.dropna(inplace=True)\n",
    "    \n",
    "Df"
   ]
  },
  {
   "cell_type": "markdown",
   "metadata": {},
   "source": [
    "## Transforming the data"
   ]
  },
  {
   "cell_type": "code",
   "execution_count": null,
   "metadata": {},
   "outputs": [],
   "source": [
    "# Create an instance of StandardScaler\n",
    "scaler = StandardScaler()\n",
    "\n",
    "# Fit the scaler to the data\n",
    "scaled_data = scaler.fit_transform(Df)\n",
    "\n",
    "# Create a new dataframe with the transformed data\n",
    "transformed_df = pd.DataFrame(scaled_data, columns=Df.columns)\n",
    "\n",
    "# Display the transformed dataframe\n",
    "transformed_df"
   ]
  },
  {
   "cell_type": "markdown",
   "metadata": {},
   "source": [
    "### Function to get the best number of clusters using the Elbow Method"
   ]
  },
  {
   "cell_type": "code",
   "execution_count": null,
   "metadata": {},
   "outputs": [],
   "source": [
    "\n",
    "def get_k_means_score(data, max_k):\n",
    "    means = []\n",
    "    scores = []\n",
    "    \n",
    "    for k in range(1, max_k+1):\n",
    "        # Create a k-means instance with k clusters\n",
    "        kmeans = KMeans(n_clusters=k)\n",
    "        kmeans.fit(data)\n",
    "        \n",
    "        means.append(k)\n",
    "        scores.append(kmeans.inertia_)\n",
    "        \n",
    "    # plot the results\n",
    "    plt.plot(means, scores, marker='o', color='r');\n",
    "    plt.xlabel('K');\n",
    "    plt.ylabel('Score');\n",
    "    plt.title('Elbow Method');\n",
    "    plt.show()"
   ]
  },
  {
   "cell_type": "code",
   "execution_count": null,
   "metadata": {},
   "outputs": [],
   "source": [
    "# using the function to get the best number of clusters\n",
    "get_k_means_score(transformed_df[['fixed_acidity', 'citric_acid']], 10)"
   ]
  },
  {
   "cell_type": "markdown",
   "metadata": {},
   "source": [
    "As we can see, the best number of clusters is 4, so we will use that number to create the KMeans model. The curve is almost flat after 5 clusters, so we will not get much more information if we increase the number of clusters."
   ]
  },
  {
   "cell_type": "code",
   "execution_count": null,
   "metadata": {},
   "outputs": [],
   "source": [
    "# now we can use the best number of clusters to create the model\n",
    "# Create a k-means instance with 4 clusters\n",
    "kmeans = KMeans(n_clusters=4)\n",
    "\n",
    "# Fit the k-means object to the data\n",
    "kmeans.fit(transformed_df[['fixed_acidity', 'citric_acid']])\n",
    "\n",
    "# set a column with the labels\n",
    "transformed_df['Labels'] = kmeans.labels_\n",
    "\n",
    "# show the dataframe\n",
    "transformed_df"
   ]
  },
  {
   "cell_type": "markdown",
   "metadata": {},
   "source": [
    "## Visualizing the clusters in 2D"
   ]
  },
  {
   "cell_type": "code",
   "execution_count": null,
   "metadata": {},
   "outputs": [],
   "source": [
    "# plotting the results by the first two principal components\n",
    "plt.scatter(transformed_df['fixed_acidity'], transformed_df['citric_acid'], c=transformed_df['Labels'])\n",
    "\n",
    "# show the centroids for each cluster\n",
    "centroids = kmeans.cluster_centers_\n",
    "\n",
    "plt.scatter(centroids[:, 0], centroids[:, 1], c='red', s=50, marker='x')\n",
    "\n",
    "plt.title('Clusters')\n",
    "plt.xlabel('fixed_acidity')\n",
    "plt.ylabel('citric_acid')\n",
    "plt.show()\n",
    "\n"
   ]
  },
  {
   "cell_type": "markdown",
   "metadata": {},
   "source": [
    "### Reducing the data using PCA and analyzing the the number of components to use in the PCA"
   ]
  },
  {
   "cell_type": "code",
   "execution_count": null,
   "metadata": {},
   "outputs": [],
   "source": [
    "# Create an instance of PCA\n",
    "pca = PCA()\n",
    "\n",
    "# Fit PCA to the scaled data and plot the cumulative explained variance ratio for each component\n",
    "pca.fit(scaled_data)\n",
    "plt.plot(range(1,12), pca.explained_variance_ratio_.cumsum(), marker='o', linestyle='--')\n",
    "plt.xlabel('Number of Components')\n",
    "plt.ylabel('Cumulative Explained Variance')\n",
    "plt.title('Explained Variance vs Number of Components')\n",
    "plt.show()\n",
    "\n",
    "print(pca.explained_variance_ratio_.cumsum())"
   ]
  },
  {
   "cell_type": "code",
   "execution_count": null,
   "metadata": {},
   "outputs": [],
   "source": [
    "pca = PCA(n_components=7)\n",
    "# Transform the scaled data\n",
    "pca.fit(scaled_data)\n",
    "pca_data = pca.transform(scaled_data)\n",
    "\n",
    "# Create a new dataframe with the pca data\n",
    "pca_df = pd.DataFrame(pca_data, columns = ['PC1', 'PC2', 'PC3', 'PC4', 'PC5', 'PC6', 'PC7'])\n",
    "\n",
    "# Display the reduced dataframe\n",
    "pca_df"
   ]
  },
  {
   "cell_type": "markdown",
   "metadata": {},
   "source": [
    "### Finding the best number of clusters for the reduced data"
   ]
  },
  {
   "cell_type": "code",
   "execution_count": null,
   "metadata": {},
   "outputs": [],
   "source": [
    "get_k_means_score(pca_df[['PC1', 'PC3']], 10)"
   ]
  },
  {
   "cell_type": "code",
   "execution_count": null,
   "metadata": {},
   "outputs": [],
   "source": [
    "# now we can use the best number of clusters to create the model\n",
    "# Create a k-means instance with 4 clusters\n",
    "kmeans = KMeans(n_clusters=4)\n",
    "\n",
    "# Fit the k-means object to the data\n",
    "kmeans.fit(pca_df[['PC1', 'PC3']])\n",
    "\n",
    "# set a column with the labels\n",
    "pca_df['Labels'] = kmeans.labels_\n"
   ]
  },
  {
   "cell_type": "markdown",
   "metadata": {},
   "source": [
    "### Visualizing the clusters in 2D of the reduced data"
   ]
  },
  {
   "cell_type": "code",
   "execution_count": null,
   "metadata": {},
   "outputs": [],
   "source": [
    "# plotting the results by the first two principal components\n",
    "plt.scatter(pca_df['PC1'], pca_df['PC3'], c=pca_df['Labels'])\n",
    "plt.xlabel('PC1')\n",
    "plt.ylabel('PC3')\n",
    "\n",
    "# show the centroids for each cluster\n",
    "centroids = kmeans.cluster_centers_\n",
    "plt.scatter(centroids[:, 0], centroids[:, 1], c='red', s=50, marker='x')\n",
    "plt.title('Clusters')\n",
    "plt.show()"
   ]
  }
 ],
 "metadata": {
  "kernelspec": {
   "display_name": "python310",
   "language": "python",
   "name": "python3"
  },
  "language_info": {
   "codemirror_mode": {
    "name": "ipython",
    "version": 3
   },
   "file_extension": ".py",
   "mimetype": "text/x-python",
   "name": "python",
   "nbconvert_exporter": "python",
   "pygments_lexer": "ipython3",
   "version": "3.10.13"
  }
 },
 "nbformat": 4,
 "nbformat_minor": 2
}
